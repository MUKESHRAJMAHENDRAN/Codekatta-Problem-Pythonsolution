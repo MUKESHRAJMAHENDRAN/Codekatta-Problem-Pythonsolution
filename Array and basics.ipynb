{
 "cells": [
  {
   "cell_type": "code",
   "execution_count": 5,
   "id": "c1d6631c",
   "metadata": {},
   "outputs": [
    {
     "name": "stdout",
     "output_type": "stream",
     "text": [
      "6\n",
      "1 3 5 7\n",
      "0\n"
     ]
    }
   ],
   "source": [
    "#Sum of array divided by 2,3,5\n",
    "a=int(input())\n",
    "arr=list(map(int,input().split()))\n",
    "if sum(arr)%2==0 and sum(arr)%3==0 and sum(arr)%5:\n",
    "    print(\"1\")\n",
    "else:\n",
    "    print(\"0\")"
   ]
  },
  {
   "cell_type": "code",
   "execution_count": 15,
   "id": "4ded8f72",
   "metadata": {},
   "outputs": [
    {
     "name": "stdout",
     "output_type": "stream",
     "text": [
      "5 \n",
      "1 3 2 3 5\n",
      "1 2 3 5\n"
     ]
    }
   ],
   "source": [
    "# Removing duplicates in array\n",
    "a=int(input())\n",
    "arr=list(map(int,input().split()))\n",
    "b=list(set(arr))\n",
    "print(*b)"
   ]
  },
  {
   "cell_type": "code",
   "execution_count": null,
   "id": "53858c2c",
   "metadata": {},
   "outputs": [],
   "source": [
    "#first method print randomly"
   ]
  },
  {
   "cell_type": "code",
   "execution_count": 21,
   "id": "4d6c231c",
   "metadata": {
    "scrolled": true
   },
   "outputs": [
    {
     "name": "stdout",
     "output_type": "stream",
     "text": [
      "5 \n",
      "11 2a 33 2a 1a\n",
      "11 2a 33 1a\n"
     ]
    }
   ],
   "source": [
    "a=int(input())\n",
    "arr=list(map(str,input().split()))\n",
    "b=[]\n",
    "for i in arr:\n",
    "    if i not in b:\n",
    "        b.append(i)\n",
    "print(*b)"
   ]
  },
  {
   "cell_type": "code",
   "execution_count": 5,
   "id": "4e0b8172",
   "metadata": {},
   "outputs": [
    {
     "name": "stdout",
     "output_type": "stream",
     "text": [
      "4 1\n",
      "1 2 3\n",
      "yes\n"
     ]
    }
   ],
   "source": [
    "#Check a in b\n",
    "a,b=map(int,input().split())\n",
    "arr=list(map(int,input().split()))\n",
    "if b in arr:\n",
    "    print(\"yes\")\n",
    "else:\n",
    "    print(\"no\")\n",
    "    "
   ]
  },
  {
   "cell_type": "code",
   "execution_count": 9,
   "id": "b928007c",
   "metadata": {},
   "outputs": [
    {
     "name": "stdout",
     "output_type": "stream",
     "text": [
      "6\n",
      "2\n",
      "4\n",
      "6\n"
     ]
    }
   ],
   "source": [
    "#print even from 1\n",
    "a=int(input())\n",
    "for i in range(2,a+1,2):\n",
    "    print(i)"
   ]
  },
  {
   "cell_type": "code",
   "execution_count": 13,
   "id": "72d1c6ce",
   "metadata": {
    "scrolled": true
   },
   "outputs": [
    {
     "name": "stdout",
     "output_type": "stream",
     "text": [
      "3\n",
      "6\n"
     ]
    }
   ],
   "source": [
    "#Sum of first natural number\n",
    "a=int(input())\n",
    "sum=0\n",
    "for i in range(1,a+1):\n",
    "    sum=sum+i\n",
    "print(sum)"
   ]
  },
  {
   "cell_type": "code",
   "execution_count": 14,
   "id": "aec7cd50",
   "metadata": {},
   "outputs": [
    {
     "name": "stdout",
     "output_type": "stream",
     "text": [
      "123\n",
      "yes\n"
     ]
    }
   ],
   "source": [
    "#Composite or not\n",
    "n=int(input())\n",
    "count=0\n",
    "for i in range(1,n+1):\n",
    "    if n%i==0:\n",
    "        count=count+1\n",
    "if(count>2):\n",
    "    print(\"yes\")\n",
    "else:\n",
    "    print(\"no\")\n",
    "    "
   ]
  },
  {
   "cell_type": "code",
   "execution_count": 4,
   "id": "029039b2",
   "metadata": {},
   "outputs": [
    {
     "name": "stdout",
     "output_type": "stream",
     "text": [
      "5 5\n",
      "yes\n"
     ]
    }
   ],
   "source": [
    "#Product is a perfect square root\n",
    "import math\n",
    "a,b=map(int,input().split())\n",
    "c=a*b\n",
    "root=math.sqrt(c)\n",
    "if int(root+0.5)**2==c:\n",
    "    print(\"yes\")\n",
    "else:\n",
    "    print(\"no\")"
   ]
  },
  {
   "cell_type": "code",
   "execution_count": 6,
   "id": "b09a352c",
   "metadata": {},
   "outputs": [
    {
     "name": "stdout",
     "output_type": "stream",
     "text": [
      "2 4\n",
      "4\n"
     ]
    }
   ],
   "source": [
    "#area of triangle\n",
    "a,b=map(int,input().split())\n",
    "area=int((a*b)/2)\n",
    "print(area)"
   ]
  },
  {
   "cell_type": "code",
   "execution_count": 8,
   "id": "eb656761",
   "metadata": {},
   "outputs": [
    {
     "name": "stdout",
     "output_type": "stream",
     "text": [
      "2 3\n",
      "odd\n"
     ]
    }
   ],
   "source": [
    "#Sum of number is odd or even\n",
    "a,b=map(int,input().split())\n",
    "if(a+b)%2==0:\n",
    "    print(\"even\")\n",
    "else:\n",
    "    print(\"odd\")"
   ]
  },
  {
   "cell_type": "code",
   "execution_count": 2,
   "id": "f9fecfe4",
   "metadata": {},
   "outputs": [
    {
     "name": "stdout",
     "output_type": "stream",
     "text": [
      "2 7\n",
      "4\n"
     ]
    }
   ],
   "source": [
    "#printing the prime interval\n",
    "a,b=map(int,input().split())\n",
    "count=0\n",
    "for i in range(a,b+1):\n",
    "    if i>1:\n",
    "        for j in range(2,i):\n",
    "            if(i%j==0):\n",
    "                break\n",
    "        else:\n",
    "            count=count+1\n",
    "print(count)"
   ]
  },
  {
   "cell_type": "code",
   "execution_count": 3,
   "id": "80bff675",
   "metadata": {},
   "outputs": [
    {
     "name": "stdout",
     "output_type": "stream",
     "text": [
      "100 200\n",
      "100\n"
     ]
    }
   ],
   "source": [
    "a,b=map(int,input().split())\n",
    "c=b-a\n",
    "print(c)"
   ]
  },
  {
   "cell_type": "code",
   "execution_count": 15,
   "id": "4126d46c",
   "metadata": {},
   "outputs": [
    {
     "name": "stdout",
     "output_type": "stream",
     "text": [
      "Mukesh\n",
      "uMekhs\n"
     ]
    }
   ],
   "source": [
    "#odd end even character swap\n",
    "str=input()\n",
    "output = ''\n",
    "i = 0\n",
    "while i < len(str):\n",
    "        if i + 1 < len(str):\n",
    "                output = output + str[i + 1]\n",
    "                output = output + str[i]\n",
    "        i = i + 2\n",
    "print(output)"
   ]
  },
  {
   "cell_type": "code",
   "execution_count": 22,
   "id": "60c368fa",
   "metadata": {},
   "outputs": [
    {
     "name": "stdout",
     "output_type": "stream",
     "text": [
      "2 2 4\n",
      "no\n"
     ]
    }
   ],
   "source": [
    "#Checking of scalene triangle\n",
    "a,b,c=map(int,input().split())\n",
    "if a==b or a==c or b==c:\n",
    "    print(\"no\")\n",
    "else:\n",
    "    print(\"yes\")"
   ]
  },
  {
   "cell_type": "code",
   "execution_count": 4,
   "id": "571b2a5d",
   "metadata": {},
   "outputs": [
    {
     "name": "stdout",
     "output_type": "stream",
     "text": [
      "37 -73\n",
      "1\n"
     ]
    }
   ],
   "source": [
    "a,b=map(int,input().split())\n",
    "import math\n",
    "if b!=0:\n",
    "    print(math.gcd(a,b))\n",
    "else:\n",
    "    print('-1')\n",
    "    "
   ]
  },
  {
   "cell_type": "code",
   "execution_count": 6,
   "id": "c91c84ee",
   "metadata": {},
   "outputs": [
    {
     "name": "stdout",
     "output_type": "stream",
     "text": [
      "virat kohli\n",
      "kohli virat\n"
     ]
    }
   ],
   "source": [
    "a=input().split()\n",
    "a.sort()\n",
    "print(*a)"
   ]
  },
  {
   "cell_type": "code",
   "execution_count": 3,
   "id": "43b779f6",
   "metadata": {},
   "outputs": [
    {
     "name": "stdout",
     "output_type": "stream",
     "text": [
      "aeiou\n",
      "-1\n"
     ]
    }
   ],
   "source": [
    "a=input()\n",
    "b=[\"a\",\"e\",\"i\",\"o\",\"u\"]\n",
    "c=[]\n",
    "for i in reversed(a):\n",
    "    flag=True \n",
    "    if i not in b:\n",
    "        c.append(i)\n",
    "    else:\n",
    "        flag=False        \n",
    "if flag==False:\n",
    "    print(\"-1\")\n",
    "else:\n",
    "    print(\"\".join(c)) \n",
    "    "
   ]
  },
  {
   "cell_type": "code",
   "execution_count": 4,
   "id": "d7c71ddb",
   "metadata": {},
   "outputs": [
    {
     "name": "stdout",
     "output_type": "stream",
     "text": [
      "learn code\n",
      "no\n"
     ]
    }
   ],
   "source": [
    "a,b=map(str,input().split())\n",
    "if a in b:\n",
    "    print(\"yes\")\n",
    "else:\n",
    "    print(\"no\")"
   ]
  },
  {
   "cell_type": "code",
   "execution_count": 1,
   "id": "8b5ad409",
   "metadata": {},
   "outputs": [
    {
     "name": "stdout",
     "output_type": "stream",
     "text": [
      "1 2 3 4 \n",
      "Counter({' ': 4, '1': 1, '2': 1, '3': 1, '4': 1})\n"
     ]
    }
   ],
   "source": [
    "from collections import Counter\n",
    "a=input()\n",
    "print(Counter(a))"
   ]
  },
  {
   "cell_type": "code",
   "execution_count": 4,
   "id": "37848c39",
   "metadata": {
    "scrolled": true
   },
   "outputs": [
    {
     "name": "stdout",
     "output_type": "stream",
     "text": [
      "mukesh raj\n",
      "mukeshraj\n"
     ]
    }
   ],
   "source": [
    "a=input().split()\n",
    "b=\"\".join(a)\n",
    "print(b)"
   ]
  }
 ],
 "metadata": {
  "kernelspec": {
   "display_name": "Python 3 (ipykernel)",
   "language": "python",
   "name": "python3"
  },
  "language_info": {
   "codemirror_mode": {
    "name": "ipython",
    "version": 3
   },
   "file_extension": ".py",
   "mimetype": "text/x-python",
   "name": "python",
   "nbconvert_exporter": "python",
   "pygments_lexer": "ipython3",
   "version": "3.8.10"
  }
 },
 "nbformat": 4,
 "nbformat_minor": 5
}
