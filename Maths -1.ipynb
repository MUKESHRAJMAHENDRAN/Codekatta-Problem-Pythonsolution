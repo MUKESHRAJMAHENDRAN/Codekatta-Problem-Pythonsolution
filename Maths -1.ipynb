{
 "cells": [
  {
   "cell_type": "code",
   "execution_count": 1,
   "id": "cacfc76d",
   "metadata": {},
   "outputs": [
    {
     "name": "stdout",
     "output_type": "stream",
     "text": [
      "nitin\n",
      "1\n"
     ]
    }
   ],
   "source": [
    "#Palindrome\n",
    "a=str(input())\n",
    "b=a[::-1]\n",
    "if a==b:\n",
    "    print(\"1\")\n",
    "else:\n",
    "    print(\"0\")"
   ]
  },
  {
   "cell_type": "code",
   "execution_count": null,
   "id": "f8639299",
   "metadata": {},
   "outputs": [],
   "source": [
    "a=input()\n",
    "if a[0]!=a[-1]and a[0]!=a[2]:\n",
    "    print(\"Wonder\")\n",
    "else:\n",
    "    print('-1')\n",
    "    "
   ]
  },
  {
   "cell_type": "code",
   "execution_count": null,
   "id": "67116a4e",
   "metadata": {},
   "outputs": [],
   "source": [
    "#Reverse a word\n",
    "a=list(map(str,input().split()))\n",
    "b=list(reversed(a))\n",
    "print(*b)"
   ]
  },
  {
   "cell_type": "code",
   "execution_count": null,
   "id": "d296e284",
   "metadata": {},
   "outputs": [],
   "source": [
    "c=\"a\"\n",
    "print(ord(c))\n"
   ]
  },
  {
   "cell_type": "code",
   "execution_count": null,
   "id": "eda56e6d",
   "metadata": {},
   "outputs": [],
   "source": [
    "c=\"b\"\n",
    "print(ord(c))\n"
   ]
  },
  {
   "cell_type": "code",
   "execution_count": null,
   "id": "62675e22",
   "metadata": {},
   "outputs": [],
   "source": [
    "c=\"c\"\n",
    "print(ord(c))"
   ]
  },
  {
   "cell_type": "code",
   "execution_count": null,
   "id": "cb75dd82",
   "metadata": {},
   "outputs": [],
   "source": [
    "#Weight os Asc11 code\n",
    "a=input()\n",
    "sum=0\n",
    "for i in a:\n",
    "    sum=ord(i)+sum\n",
    "print(sum)"
   ]
  },
  {
   "cell_type": "code",
   "execution_count": null,
   "id": "b105542b",
   "metadata": {},
   "outputs": [],
   "source": [
    "a=list(input().split())\n",
    "sum=0\n",
    "for i in a:\n",
    "    sum=sum+int(i)\n",
    "    b=sum%10\n",
    "    if sum==110:\n",
    "        print('10')\n",
    "print(b)"
   ]
  },
  {
   "cell_type": "code",
   "execution_count": null,
   "id": "5df2767c",
   "metadata": {},
   "outputs": [],
   "source": [
    "a,b=map(int,input().split())\n",
    "import math\n",
    "print(math.gcd(a,b))"
   ]
  },
  {
   "cell_type": "code",
   "execution_count": null,
   "id": "5947a0c2",
   "metadata": {},
   "outputs": [],
   "source": [
    "#sort\n",
    "a=input().split()\n",
    "a.sort()\n",
    "print(*a)"
   ]
  },
  {
   "cell_type": "code",
   "execution_count": null,
   "id": "67d97274",
   "metadata": {},
   "outputs": [],
   "source": [
    "b=int(input())\n",
    "a=input().split()\n",
    "a.sort()\n",
    "print(*a)"
   ]
  },
  {
   "cell_type": "code",
   "execution_count": 3,
   "id": "4abd59e0",
   "metadata": {},
   "outputs": [
    {
     "name": "stdout",
     "output_type": "stream",
     "text": [
      "5 \n",
      "5 2 4 7 1\n",
      "5 2 4 7 1\n"
     ]
    }
   ],
   "source": [
    "a=input()\n",
    "b=list(map(int,input().split()))\n",
    "print(*b)\n",
    "c=b.sort()"
   ]
  },
  {
   "cell_type": "code",
   "execution_count": 11,
   "id": "789879b0",
   "metadata": {},
   "outputs": [
    {
     "data": {
      "text/plain": [
       "(2, 6, 12, 20, 30)"
      ]
     },
     "execution_count": 11,
     "metadata": {},
     "output_type": "execute_result"
    }
   ],
   "source": [
    "2,6,12,20,30\n"
   ]
  },
  {
   "cell_type": "code",
   "execution_count": 1,
   "id": "c58098f1",
   "metadata": {},
   "outputs": [
    {
     "name": "stdout",
     "output_type": "stream",
     "text": [
      "1.1\n",
      "1\n"
     ]
    }
   ],
   "source": [
    "a=float(input())\n",
    "print(int(a))"
   ]
  },
  {
   "cell_type": "code",
   "execution_count": 9,
   "id": "408d412e",
   "metadata": {},
   "outputs": [
    {
     "name": "stdout",
     "output_type": "stream",
     "text": [
      "7\n",
      "1 2 3 4 6 7 8\n",
      "0\n"
     ]
    }
   ],
   "source": [
    "b=input()\n",
    "a=list(map(int,input().split()))\n",
    "if (a[0]+a[1]+a[2]==a[-1]+a[-2]+a[-3]):\n",
    "    print(\"1\")\n",
    "else:\n",
    "    print(\"0\")"
   ]
  },
  {
   "cell_type": "code",
   "execution_count": 8,
   "id": "ad9a70fc",
   "metadata": {},
   "outputs": [
    {
     "name": "stdout",
     "output_type": "stream",
     "text": [
      "6\n",
      "1 2 3 6\n"
     ]
    }
   ],
   "source": [
    "a=int(input())\n",
    "b=[]\n",
    "for i in range(1,a+1):\n",
    "    if a%i==0:\n",
    "        b.append(i)\n",
    "print(*b)\n",
    "    "
   ]
  },
  {
   "cell_type": "code",
   "execution_count": 8,
   "id": "84fe3f36",
   "metadata": {},
   "outputs": [
    {
     "name": "stdout",
     "output_type": "stream",
     "text": [
      "4\n"
     ]
    },
    {
     "data": {
      "text/plain": [
       "144"
      ]
     },
     "execution_count": 8,
     "metadata": {},
     "output_type": "execute_result"
    }
   ],
   "source": [
    "#Take the number out of the series \n",
    "def series(n):\n",
    "    return (n*n)*((2*n)+1)\n",
    "n=int(input())\n",
    "series(n)"
   ]
  },
  {
   "cell_type": "code",
   "execution_count": 1,
   "id": "4331ecdc",
   "metadata": {},
   "outputs": [
    {
     "data": {
      "text/plain": [
       "10.0"
      ]
     },
     "execution_count": 1,
     "metadata": {},
     "output_type": "execute_result"
    }
   ],
   "source": [
    "def term(n):\n",
    "    return n *(n + 1) / 2\n",
    "term(4)"
   ]
  },
  {
   "cell_type": "code",
   "execution_count": 8,
   "id": "8d19bbe8",
   "metadata": {},
   "outputs": [
    {
     "name": "stdout",
     "output_type": "stream",
     "text": [
      "9\n"
     ]
    },
    {
     "data": {
      "text/plain": [
       "10000"
      ]
     },
     "execution_count": 8,
     "metadata": {},
     "output_type": "execute_result"
    }
   ],
   "source": [
    "n=int(input())\n",
    "def savings(n):\n",
    "        return (1000+(1000*n))\n",
    "savings(n)"
   ]
  },
  {
   "cell_type": "code",
   "execution_count": 12,
   "id": "20e181b0",
   "metadata": {},
   "outputs": [
    {
     "name": "stdout",
     "output_type": "stream",
     "text": [
      "True\n",
      "True\n",
      "False\n",
      "False\n"
     ]
    }
   ],
   "source": [
    "def gcd(p,q):\n",
    "# Create the gcd of two positive integers.\n",
    "    while q != 0:\n",
    "        p, q = q, p%q\n",
    "    return p\n",
    "def is_coprime(x, y):\n",
    "    return gcd(x, y) == 1\n",
    "print(is_coprime(17, 13))\n",
    "print(is_coprime(17, 21))\n",
    "print(is_coprime(15, 21))\n",
    "print(is_coprime(25, 45))\n"
   ]
  },
  {
   "cell_type": "code",
   "execution_count": 2,
   "id": "5f110bbb",
   "metadata": {
    "scrolled": true
   },
   "outputs": [
    {
     "name": "stdout",
     "output_type": "stream",
     "text": [
      "2 4\n",
      "0\n"
     ]
    }
   ],
   "source": [
    "a,c=map(int,input().split())\n",
    "import math\n",
    "b=math.gcd(a,c)\n",
    "if b==1:\n",
    "    print(\"1\")\n",
    "else:\n",
    "    print(\"0\")"
   ]
  },
  {
   "cell_type": "code",
   "execution_count": 4,
   "id": "470ad9d2",
   "metadata": {},
   "outputs": [
    {
     "name": "stdout",
     "output_type": "stream",
     "text": [
      "1010101000011111110\n",
      "7\n"
     ]
    }
   ],
   "source": [
    "#Consecutive one's\n",
    "a=max(map(len,input().split(\"0\")))\n",
    "print(a)"
   ]
  },
  {
   "cell_type": "code",
   "execution_count": 3,
   "id": "773f68c5",
   "metadata": {
    "scrolled": true
   },
   "outputs": [
    {
     "name": "stdout",
     "output_type": "stream",
     "text": [
      "000000000000\n",
      "-1\n"
     ]
    }
   ],
   "source": [
    "a=max(map(len,input().split(\"0\")))\n",
    "if a!=0:\n",
    "    print(a)\n",
    "else:\n",
    "    print(\"-1\")"
   ]
  },
  {
   "cell_type": "code",
   "execution_count": 3,
   "id": "b8ce3050",
   "metadata": {},
   "outputs": [
    {
     "name": "stdout",
     "output_type": "stream",
     "text": [
      "16\n"
     ]
    },
    {
     "data": {
      "text/plain": [
       "32"
      ]
     },
     "execution_count": 3,
     "metadata": {},
     "output_type": "execute_result"
    }
   ],
   "source": [
    "n=int(input())\n",
    "def two(n):\n",
    "    return n*2\n",
    "two(n)"
   ]
  },
  {
   "cell_type": "code",
   "execution_count": 14,
   "id": "64f56ece",
   "metadata": {},
   "outputs": [
    {
     "name": "stdout",
     "output_type": "stream",
     "text": [
      "100 85 70 65 13 9\n",
      "13 -2 -17 -22 -74 -78\n"
     ]
    }
   ],
   "source": [
    "#Goals calculation\n",
    "a=list(map(int,input().split()))\n",
    "c=a[-1]+a[-2]+a[-3]\n",
    "b=[i-c for i in a]\n",
    "print(*b)"
   ]
  },
  {
   "cell_type": "code",
   "execution_count": 23,
   "id": "f94be1a1",
   "metadata": {},
   "outputs": [
    {
     "name": "stdout",
     "output_type": "stream",
     "text": [
      "100 85 70 65 13 9\n",
      "13 -2 -17 -22 -74 -78 "
     ]
    }
   ],
   "source": [
    "a=list(map(int,input().split()))\n",
    "c=a[-1]+a[-2]+a[-3]\n",
    "for i in a:\n",
    "    b=i-c\n",
    "    print(b,end=\" \")"
   ]
  },
  {
   "cell_type": "code",
   "execution_count": 26,
   "id": "3a63bc83",
   "metadata": {},
   "outputs": [
    {
     "name": "stdout",
     "output_type": "stream",
     "text": [
      "2468\n",
      "-1\n"
     ]
    }
   ],
   "source": [
    "a=list(input())\n",
    "b=[]\n",
    "c=[]\n",
    "d=[]\n",
    "for i in a:\n",
    "    if int(i)%2==0:\n",
    "        b.append(i)\n",
    "    else:\n",
    "        c.append(i)\n",
    "        d=len(c)\n",
    "if len(c)>0:\n",
    "    print(*c)\n",
    "else:\n",
    "    print(\"-1\")"
   ]
  },
  {
   "cell_type": "code",
   "execution_count": 8,
   "id": "89a80827",
   "metadata": {},
   "outputs": [
    {
     "name": "stdout",
     "output_type": "stream",
     "text": [
      "1000\n",
      "['0', '0', '0', '1']\n",
      "[]\n"
     ]
    }
   ],
   "source": [
    "a=list(input())\n",
    "b=a[::-1]\n",
    "c=[]\n",
    "d=[]\n",
    "for i in b:\n",
    "    if i!=0:\n",
    "        c.append(i)\n",
    "    else:\n",
    "        d.append(i)\n",
    "print(c)        \n",
    "print(d)"
   ]
  },
  {
   "cell_type": "code",
   "execution_count": 13,
   "id": "ca1b1660",
   "metadata": {},
   "outputs": [
    {
     "name": "stdout",
     "output_type": "stream",
     "text": [
      "1 1 2\n",
      "3\n"
     ]
    }
   ],
   "source": [
    "a,d,n=map(int,input().split())\n",
    "def  sumofap(a,  d,  n):\n",
    "    sum = (n / 2) * (2 * a + (n - 1) * d)\n",
    "    return int(sum)\n",
    "print(sumofap(a, d, n))"
   ]
  },
  {
   "cell_type": "code",
   "execution_count": 1,
   "id": "56bc232a",
   "metadata": {},
   "outputs": [
    {
     "name": "stdout",
     "output_type": "stream",
     "text": [
      "5\n",
      "30\n"
     ]
    }
   ],
   "source": [
    "#finding series\n",
    "a=int(input())\n",
    "def series(a):\n",
    "    return((a*a)+a)\n",
    "print(series(a))"
   ]
  }
 ],
 "metadata": {
  "kernelspec": {
   "display_name": "Python 3 (ipykernel)",
   "language": "python",
   "name": "python3"
  },
  "language_info": {
   "codemirror_mode": {
    "name": "ipython",
    "version": 3
   },
   "file_extension": ".py",
   "mimetype": "text/x-python",
   "name": "python",
   "nbconvert_exporter": "python",
   "pygments_lexer": "ipython3",
   "version": "3.8.10"
  }
 },
 "nbformat": 4,
 "nbformat_minor": 5
}
