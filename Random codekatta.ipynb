{
 "cells": [
  {
   "cell_type": "code",
   "execution_count": 2,
   "id": "ba532af5",
   "metadata": {},
   "outputs": [
    {
     "name": "stdout",
     "output_type": "stream",
     "text": [
      "malayalam\n",
      "yes\n"
     ]
    }
   ],
   "source": [
    "#Given string is palindrome or not\n",
    "a=input()\n",
    "b=a[::-1]\n",
    "if a==b:\n",
    "    print(\"yes\")\n",
    "else:\n",
    "    print(\"no\")"
   ]
  },
  {
   "cell_type": "code",
   "execution_count": 20,
   "id": "ebaa6593",
   "metadata": {},
   "outputs": [
    {
     "name": "stdout",
     "output_type": "stream",
     "text": [
      "22 3 34 5 55 66 7 \n",
      "3 5 7 22 34 55 66\n"
     ]
    }
   ],
   "source": [
    "a=input().split()\n",
    "i=[int(i) for i in a]\n",
    "i.sort()\n",
    "print(*i)"
   ]
  },
  {
   "cell_type": "code",
   "execution_count": 11,
   "id": "7fc1fe4e",
   "metadata": {},
   "outputs": [
    {
     "name": "stdout",
     "output_type": "stream",
     "text": [
      "6 7 \n",
      "1 2 3 4 5\n",
      "no\n"
     ]
    }
   ],
   "source": [
    "a,b=map(int,input().split())\n",
    "c=map(int,input().split())\n",
    "if a and b in c:\n",
    "    print(\"yes\")\n",
    "else:\n",
    "    print(\"no\")"
   ]
  },
  {
   "cell_type": "code",
   "execution_count": 14,
   "id": "536cfec7",
   "metadata": {},
   "outputs": [
    {
     "name": "stdout",
     "output_type": "stream",
     "text": [
      "GuVi\n",
      "G V i u\n"
     ]
    }
   ],
   "source": [
    "a=list(input())\n",
    "a.sort()\n",
    "print(*a)"
   ]
  },
  {
   "cell_type": "code",
   "execution_count": 5,
   "id": "a45ffe64",
   "metadata": {},
   "outputs": [
    {
     "name": "stdout",
     "output_type": "stream",
     "text": [
      "8\n",
      "14 7 3 12 9 11 6 2\n",
      "2 3 6 7 9 11 12 14\n"
     ]
    }
   ],
   "source": [
    "b=input()\n",
    "a=input().split()\n",
    "i=[int(i) for i in a]\n",
    "i.sort()\n",
    "print(*i)"
   ]
  },
  {
   "cell_type": "code",
   "execution_count": 12,
   "id": "662736e0",
   "metadata": {},
   "outputs": [
    {
     "name": "stdout",
     "output_type": "stream",
     "text": [
      "3\n",
      "15 19 3\n",
      "2\n",
      "12 13\n",
      "[2, 3, 12, 13, 15, 19]\n"
     ]
    }
   ],
   "source": [
    "a=[int(input())]\n",
    "b=list(map(int,input().split()))\n",
    "c=[int(input())]\n",
    "d=list(map(int,input().split()))\n",
    "e=a+b+c+d\n",
    "e=list(dict.fromkeys(e))\n",
    "e.sort()\n",
    "print(e)"
   ]
  },
  {
   "cell_type": "code",
   "execution_count": 2,
   "id": "6932d317",
   "metadata": {
    "scrolled": true
   },
   "outputs": [
    {
     "name": "stdout",
     "output_type": "stream",
     "text": [
      "4 5 \n",
      "2 4 5 3\n",
      "2 3 4 5\n"
     ]
    }
   ],
   "source": [
    "a,b=list(map(int,input().split()))\n",
    "c=list(map(int,input().split()))\n",
    "if a and b in c:\n",
    "    c.sort()\n",
    "    print(*c)\n",
    "else:\n",
    "    print(\"not possible\")"
   ]
  },
  {
   "cell_type": "code",
   "execution_count": 13,
   "id": "d84e702b",
   "metadata": {},
   "outputs": [
    {
     "name": "stdout",
     "output_type": "stream",
     "text": [
      "8\n",
      "14 7 3 12 9 11 6 2\n",
      "2 3 6 7 9 11 12 14\n"
     ]
    }
   ],
   "source": [
    "a=input()\n",
    "b=list(map(int,input().split()))\n",
    "b.sort()\n",
    "print(*b)"
   ]
  },
  {
   "cell_type": "code",
   "execution_count": 25,
   "id": "330bc5e5",
   "metadata": {},
   "outputs": [
    {
     "name": "stdout",
     "output_type": "stream",
     "text": [
      "1 15 25 45 42 21 17 12 11\n",
      "3\n"
     ]
    }
   ],
   "source": [
    "#Index of maximum value in python\n",
    "b=list(map(int,input().split()))\n",
    "c=max(b)\n",
    "c=b.index(c)\n",
    "print(c)"
   ]
  },
  {
   "cell_type": "code",
   "execution_count": 5,
   "id": "3607d7ec",
   "metadata": {},
   "outputs": [
    {
     "name": "stdout",
     "output_type": "stream",
     "text": [
      "2\n",
      "87 78\n",
      "3\n",
      "1 2 3\n",
      "1 2 3 78 87\n"
     ]
    }
   ],
   "source": [
    "a=[int(input())]\n",
    "b=list(map(int,input().split()))\n",
    "c=[int(input())]\n",
    "d=list(map(int,input().split()))\n",
    "e=a+b+c+d\n",
    "e=list(dict.fromkeys(e))\n",
    "e.sort()\n",
    "print(*e)"
   ]
  },
  {
   "cell_type": "code",
   "execution_count": 16,
   "id": "5d2e4478",
   "metadata": {},
   "outputs": [
    {
     "name": "stdout",
     "output_type": "stream",
     "text": [
      "4097\n",
      "yes\n"
     ]
    }
   ],
   "source": [
    "a=input()\n",
    "b=int(a[-1])+int(a[-2])\n",
    "d=int(a[0]+a[-1])\n",
    "if int(a)>0:\n",
    "    if int(b)%4==0:\n",
    "        print(\"yes\")\n",
    "    else:\n",
    "        print(\"no\")\n",
    "else:\n",
    "    if int(d)%4==0:\n",
    "        print(\"yes\")\n",
    "    else:\n",
    "        print(\"no\")"
   ]
  },
  {
   "cell_type": "code",
   "execution_count": 7,
   "id": "0e62091e",
   "metadata": {},
   "outputs": [
    {
     "name": "stdout",
     "output_type": "stream",
     "text": [
      "Programming with C++\n",
      "gnimmargorP htiw ++C\n"
     ]
    }
   ],
   "source": [
    "#Reverse a string\n",
    "a,b,c=input().split()\n",
    "a=a[::-1]\n",
    "b=b[::-1]\n",
    "c=c[::-1]\n",
    "print(a,b,c)"
   ]
  },
  {
   "cell_type": "code",
   "execution_count": 20,
   "id": "3ac8a46a",
   "metadata": {},
   "outputs": [
    {
     "name": "stdout",
     "output_type": "stream",
     "text": [
      "guvi\n",
      "443\n"
     ]
    }
   ],
   "source": [
    "#Asc2 values\n",
    "a=input()\n",
    "sum=0\n",
    "for i in a:\n",
    "    i=ord(i)\n",
    "    sum=sum+i\n",
    "print(sum)"
   ]
  },
  {
   "cell_type": "code",
   "execution_count": 5,
   "id": "1626cb29",
   "metadata": {},
   "outputs": [
    {
     "name": "stdout",
     "output_type": "stream",
     "text": [
      "3.75606\n"
     ]
    }
   ],
   "source": [
    "a=1.626 \n",
    "b=2.31\n",
    "c=a*b\n",
    "print(format(c,\".5f\"))a"
   ]
  },
  {
   "cell_type": "code",
   "execution_count": 15,
   "id": "44f099b1",
   "metadata": {},
   "outputs": [
    {
     "name": "stdout",
     "output_type": "stream",
     "text": [
      "sdf1234\n",
      "True\n"
     ]
    }
   ],
   "source": [
    "a=input()\n",
    "b=[]\n",
    "if b==a.isnumeric():\n",
    "    \n",
    "    print(True)\n",
    "\n",
    "else:\n",
    "    print(\"0\")"
   ]
  },
  {
   "cell_type": "code",
   "execution_count": 69,
   "id": "74d587d5",
   "metadata": {},
   "outputs": [
    {
     "name": "stdout",
     "output_type": "stream",
     "text": [
      "1123\n",
      "1 1\n",
      "1 1\n",
      "1 2\n",
      "1 3\n",
      "1 1\n",
      "1 1\n",
      "1 2\n",
      "1 3\n",
      "2 1\n",
      "2 1\n",
      "2 2\n",
      "2 3\n",
      "3 1\n",
      "3 1\n",
      "3 2\n",
      "3 3\n"
     ]
    }
   ],
   "source": [
    "a=input()\n",
    "for i in a:\n",
    "    for j in a:\n",
    "        print(i,j)"
   ]
  },
  {
   "cell_type": "code",
   "execution_count": 40,
   "id": "589562e4",
   "metadata": {},
   "outputs": [
    {
     "name": "stdout",
     "output_type": "stream",
     "text": [
      "1123\n",
      "['1', '1', '2', '3'] ['1', '1', '2', '3']\n",
      "yes\n"
     ]
    }
   ],
   "source": [
    "a=input()\n",
    "b=[]\n",
    "c=[]\n",
    "for i in a:\n",
    "    b.append(i)\n",
    "for j in a:\n",
    "    c.append(j)\n",
    "print(b,c)\n",
    "if i=:\n",
    "    print(\"yes\")\n",
    "else:\n",
    "    print(\"no\")\n",
    "    "
   ]
  },
  {
   "cell_type": "code",
   "execution_count": 6,
   "id": "a199b791",
   "metadata": {},
   "outputs": [
    {
     "name": "stdout",
     "output_type": "stream",
     "text": [
      "1234\n",
      "354\n"
     ]
    }
   ],
   "source": [
    "n=input()\n",
    "count=len(n)\n",
    "sum=0\n",
    "for i in str(n):\n",
    "    b=int(i)**count\n",
    "    sum=sum+b\n",
    "print(sum)"
   ]
  },
  {
   "cell_type": "code",
   "execution_count": 2,
   "id": "cacf106c",
   "metadata": {},
   "outputs": [
    {
     "name": "stdout",
     "output_type": "stream",
     "text": [
      "2.5432 6.7654\n",
      "17.20577\n"
     ]
    }
   ],
   "source": [
    "a,b=map(float,input().split())\n",
    "c=a*b\n",
    "print(format(c,\".5f\"))"
   ]
  },
  {
   "cell_type": "code",
   "execution_count": null,
   "id": "7e4aff25",
   "metadata": {},
   "outputs": [],
   "source": [
    "2.5432 6.7654\n",
    "Expected Output:\n",
    "17.20576"
   ]
  },
  {
   "cell_type": "code",
   "execution_count": 17,
   "id": "921aeb73",
   "metadata": {},
   "outputs": [
    {
     "name": "stdout",
     "output_type": "stream",
     "text": [
      "2\n",
      "1 2\n",
      "3 4\n",
      "4\n"
     ]
    }
   ],
   "source": [
    "a=input()\n",
    "b,c=map(int,input().split())\n",
    "d,e=map(int,input().split())\n",
    "f=b+e\n",
    "g=c+d\n",
    "h=f*g\n",
    "print(h)"
   ]
  }
 ],
 "metadata": {
  "kernelspec": {
   "display_name": "Python 3 (ipykernel)",
   "language": "python",
   "name": "python3"
  },
  "language_info": {
   "codemirror_mode": {
    "name": "ipython",
    "version": 3
   },
   "file_extension": ".py",
   "mimetype": "text/x-python",
   "name": "python",
   "nbconvert_exporter": "python",
   "pygments_lexer": "ipython3",
   "version": "3.8.10"
  }
 },
 "nbformat": 4,
 "nbformat_minor": 5
}
