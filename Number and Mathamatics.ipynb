{
 "cells": [
  {
   "cell_type": "code",
   "execution_count": 32,
   "id": "08f81005",
   "metadata": {},
   "outputs": [
    {
     "name": "stdout",
     "output_type": "stream",
     "text": [
      "mukesh\n",
      "Hsekum\n"
     ]
    }
   ],
   "source": [
    "#Reversing a string with capital\n",
    "a=input()\n",
    "stringlength=len(a) \n",
    "slicedString=a[stringlength::-1]\n",
    "b=slicedString.capitalize()\n",
    "print(b)"
   ]
  },
  {
   "cell_type": "code",
   "execution_count": 9,
   "id": "cf82a057",
   "metadata": {},
   "outputs": [
    {
     "name": "stdout",
     "output_type": "stream",
     "text": [
      "12\n",
      "no\n"
     ]
    }
   ],
   "source": [
    "#Multiple of 13 or not\n",
    "a=int(input())\n",
    "if a%13==0:\n",
    "    print(\"yes\")\n",
    "else:\n",
    "    print('no')\n"
   ]
  },
  {
   "cell_type": "code",
   "execution_count": 4,
   "id": "b3676c32",
   "metadata": {
    "scrolled": true
   },
   "outputs": [
    {
     "name": "stdout",
     "output_type": "stream",
     "text": [
      "5\n",
      "2 4\n",
      "no\n"
     ]
    }
   ],
   "source": [
    "#Checking whether in between or not\n",
    "a=int(input())\n",
    "b,c=map(int,input().split())\n",
    "if a in range(b,c):\n",
    "    print('yes')\n",
    "else:\n",
    "    print('no')\n"
   ]
  },
  {
   "cell_type": "code",
   "execution_count": 8,
   "id": "ced29a07",
   "metadata": {},
   "outputs": [
    {
     "name": "stdout",
     "output_type": "stream",
     "text": [
      "5 5\n",
      "even\n"
     ]
    }
   ],
   "source": [
    "#find even or odd\n",
    "a,b=map(int,input().split())\n",
    "c=a-b\n",
    "if c%2==0:\n",
    "    print('even')\n",
    "elif c%2==0:\n",
    "    print(\"even\")\n",
    "else:\n",
    "    print(\"odd\")"
   ]
  },
  {
   "cell_type": "code",
   "execution_count": 6,
   "id": "b4863aa1",
   "metadata": {},
   "outputs": [
    {
     "name": "stdout",
     "output_type": "stream",
     "text": [
      "186\n",
      "yes\n"
     ]
    }
   ],
   "source": [
    "#sum of digits is multiple of 3 or not\n",
    "a=sum(map(int,input()))\n",
    "if a in range(3,100,3):\n",
    "    print(\"yes\")\n",
    "else:\n",
    "    print(\"not\")"
   ]
  },
  {
   "cell_type": "code",
   "execution_count": 10,
   "id": "d78b98be",
   "metadata": {
    "scrolled": true
   },
   "outputs": [
    {
     "name": "stdout",
     "output_type": "stream",
     "text": [
      "2 5\n",
      "10.00000\n"
     ]
    }
   ],
   "source": [
    "#Area with five decimal\n",
    "a,b=map(float,input().split())\n",
    "c=a*b\n",
    "print(f'{c:.5f}')"
   ]
  },
  {
   "cell_type": "code",
   "execution_count": null,
   "id": "fdeb771b",
   "metadata": {},
   "outputs": [],
   "source": [
    "#Prime or not\n",
    "a=int(input())\n",
    "for i in range(3,a):\n",
    "    if a%i==0:\n",
    "        print(\"no\")\n",
    "        break\n",
    "else:\n",
    "    print(\"yes\")"
   ]
  },
  {
   "cell_type": "code",
   "execution_count": 1,
   "id": "a9273070",
   "metadata": {},
   "outputs": [
    {
     "name": "stdout",
     "output_type": "stream",
     "text": [
      "5\n",
      "120\n"
     ]
    }
   ],
   "source": [
    "#factorial\n",
    "import math\n",
    "a=int(input())\n",
    "print(math.factorial(a))"
   ]
  },
  {
   "cell_type": "code",
   "execution_count": 6,
   "id": "86917df6",
   "metadata": {},
   "outputs": [
    {
     "name": "stdout",
     "output_type": "stream",
     "text": [
      "30\n",
      "0.50\n"
     ]
    }
   ],
   "source": [
    "#angle of sin\n",
    "import math\n",
    "a=int(input())\n",
    "b=math.sin(math.radians(a))\n",
    "print(f'{b:.2f}')"
   ]
  },
  {
   "cell_type": "code",
   "execution_count": 8,
   "id": "37dab7a2",
   "metadata": {},
   "outputs": [
    {
     "name": "stdout",
     "output_type": "stream",
     "text": [
      "3 5 2\n",
      "11\n"
     ]
    }
   ],
   "source": [
    "#solving the equation\n",
    "a,b,x=map(int,input().split())\n",
    "y=(a*x)+b\n",
    "print(y)"
   ]
  },
  {
   "cell_type": "code",
   "execution_count": 18,
   "id": "2e0e05f1",
   "metadata": {},
   "outputs": [
    {
     "name": "stdout",
     "output_type": "stream",
     "text": [
      "67\n",
      "42\n"
     ]
    }
   ],
   "source": [
    "#Product of digit\n",
    "a=input()\n",
    "b=str(a)\n",
    "product=1\n",
    "for i in b:\n",
    "    product=product*int(i)\n",
    "print(product)"
   ]
  },
  {
   "cell_type": "code",
   "execution_count": 33,
   "id": "5b782022",
   "metadata": {},
   "outputs": [
    {
     "name": "stdout",
     "output_type": "stream",
     "text": [
      "23\n",
      "13\n"
     ]
    }
   ],
   "source": [
    "#Sum of squares of integer\n",
    "a=int(input())\n",
    "print(sum(int(d)**2 for d in str(a)))"
   ]
  },
  {
   "cell_type": "code",
   "execution_count": 32,
   "id": "ee8d88b0",
   "metadata": {
    "scrolled": true
   },
   "outputs": [
    {
     "name": "stdout",
     "output_type": "stream",
     "text": [
      "101\n",
      "5\n"
     ]
    }
   ],
   "source": [
    "#Binary to decimal\n",
    "a=str(input())\n",
    "b=0\n",
    "for i in a:\n",
    "    b=b*2+int(i)\n",
    "print(b)"
   ]
  },
  {
   "cell_type": "code",
   "execution_count": 10,
   "id": "1fc0ff17",
   "metadata": {},
   "outputs": [
    {
     "name": "stdout",
     "output_type": "stream",
     "text": [
      "5\n",
      "101\n"
     ]
    }
   ],
   "source": [
    "#Decimal to binary\n",
    "a = input()\n",
    "binary = bin(int(a)).replace(\"0b\", \"\") \n",
    "print(binary)"
   ]
  },
  {
   "cell_type": "code",
   "execution_count": 26,
   "id": "c0fa5400",
   "metadata": {},
   "outputs": [
    {
     "name": "stdout",
     "output_type": "stream",
     "text": [
      "64\n",
      "7\n",
      "53\n"
     ]
    }
   ],
   "source": [
    "#Power of 2\n",
    "a=input()\n",
    "b=1\n",
    "for i in a:\n",
    "    b=b**2+int(i)\n",
    "    print(b)"
   ]
  },
  {
   "cell_type": "code",
   "execution_count": 2,
   "id": "3ef33f73",
   "metadata": {},
   "outputs": [
    {
     "name": "stdout",
     "output_type": "stream",
     "text": [
      "3 4 5\n",
      "yes\n"
     ]
    }
   ],
   "source": [
    "#Pythagoras theorem\n",
    "a,b,c=map(int,input().split())\n",
    "import math\n",
    "d=math.sqrt(b*b+a*a)\n",
    "if c==d:\n",
    "    print('yes')\n",
    "else:\n",
    "    print('no')"
   ]
  },
  {
   "cell_type": "code",
   "execution_count": 21,
   "id": "b361adb7",
   "metadata": {},
   "outputs": [
    {
     "name": "stdout",
     "output_type": "stream",
     "text": [
      "120 10\n",
      "no\n"
     ]
    }
   ],
   "source": [
    "#Checking power of number\n",
    "a,b=map(int,input().split())\n",
    "c=b*b\n",
    "if a==c:\n",
    "    print(\"yes\")\n",
    "else:\n",
    "    print(\"no\")"
   ]
  },
  {
   "cell_type": "code",
   "execution_count": 1,
   "id": "7ac7b4d3",
   "metadata": {
    "scrolled": true
   },
   "outputs": [
    {
     "name": "stdout",
     "output_type": "stream",
     "text": [
      "12345678\n",
      "9\n"
     ]
    }
   ],
   "source": [
    "#sum of 1st and last digit\n",
    "a=list(map(int,input()))\n",
    "b=a[0]+a[-1]\n",
    "print(b)"
   ]
  },
  {
   "cell_type": "code",
   "execution_count": 23,
   "id": "86606228",
   "metadata": {},
   "outputs": [
    {
     "name": "stdout",
     "output_type": "stream",
     "text": [
      "201\n",
      "no\n"
     ]
    }
   ],
   "source": [
    "#check the number is a power of 2\n",
    "a=int(input())\n",
    "if a in range(0,10000,2**2):\n",
    "    print('yes')\n",
    "else:\n",
    "    print(\"no\")"
   ]
  },
  {
   "cell_type": "code",
   "execution_count": 25,
   "id": "b6ed7643",
   "metadata": {},
   "outputs": [
    {
     "name": "stdout",
     "output_type": "stream",
     "text": [
      "10\n",
      "4\n"
     ]
    }
   ],
   "source": [
    "#length of Decimal to binary\n",
    "a = input()\n",
    "binary = bin(int(a)).replace(\"0b\", \"\") \n",
    "print(len(binary))"
   ]
  },
  {
   "cell_type": "code",
   "execution_count": 51,
   "id": "97b3ec23",
   "metadata": {},
   "outputs": [
    {
     "name": "stdout",
     "output_type": "stream",
     "text": [
      "1331\n",
      "YES\n"
     ]
    }
   ],
   "source": [
    "#divisible by 11 or not\n",
    "a=int(input())\n",
    "if a in range(0,10000,11):\n",
    "    print(\"YES\")\n",
    "else:\n",
    "    print(\"NO\")\n"
   ]
  },
  {
   "cell_type": "code",
   "execution_count": 3,
   "id": "905534f7",
   "metadata": {},
   "outputs": [
    {
     "name": "stdout",
     "output_type": "stream",
     "text": [
      "98\n",
      "NO\n"
     ]
    }
   ],
   "source": [
    "#divisible by 4\n",
    "a=int(input())\n",
    "if a in range(0,1000,4):\n",
    "    print(\"YES\")\n",
    "else:\n",
    "    print(\"NO\")"
   ]
  },
  {
   "cell_type": "code",
   "execution_count": 4,
   "id": "236510da",
   "metadata": {},
   "outputs": [
    {
     "name": "stdout",
     "output_type": "stream",
     "text": [
      "100\n",
      "93326215443944152681699238856266700490715968264381621468592963895217599993229915608941463976156518286253697920827223758251185210916864000000000000000000000000\n"
     ]
    }
   ],
   "source": [
    "#Factorial of the integer\n",
    "a=int(input())\n",
    "import math\n",
    "print(math.factorial(a))"
   ]
  },
  {
   "cell_type": "code",
   "execution_count": 9,
   "id": "afe6fc8c",
   "metadata": {},
   "outputs": [
    {
     "name": "stdout",
     "output_type": "stream",
     "text": [
      "3\n",
      "1 1 1 \n",
      "1 1 \n",
      "1 \n"
     ]
    }
   ],
   "source": [
    "#Inverted triangle\n",
    "a=int(input())\n",
    "for i in range(a):\n",
    "    print(\"1 \"*(a-i))"
   ]
  },
  {
   "cell_type": "code",
   "execution_count": 32,
   "id": "f34ad474",
   "metadata": {},
   "outputs": [
    {
     "name": "stdout",
     "output_type": "stream",
     "text": [
      "2 3 4 5 6\n",
      "[6, 5, 4, 3, 2]\n"
     ]
    }
   ],
   "source": [
    "#Reversing the list\n",
    "a=list(map(int,input().split()))\n",
    "a.reverse()\n",
    "print(a)"
   ]
  },
  {
   "cell_type": "code",
   "execution_count": 6,
   "id": "0b01043f",
   "metadata": {},
   "outputs": [
    {
     "name": "stdout",
     "output_type": "stream",
     "text": [
      "6\n",
      "1 2 3 4 5 6\n",
      "6 5 4 3 2 1\n"
     ]
    }
   ],
   "source": [
    "a=input()\n",
    "b=list(map(int,input().split()))\n",
    "b.reverse()\n",
    "print(*b)"
   ]
  },
  {
   "cell_type": "code",
   "execution_count": 10,
   "id": "370ddf6b",
   "metadata": {},
   "outputs": [
    {
     "name": "stdout",
     "output_type": "stream",
     "text": [
      "InfinityWar EndGame Avengers\n",
      "Avengers EndGame InfinityWar\n"
     ]
    }
   ],
   "source": [
    "#sorting a word\n",
    "a=list(map(str,input().split()))\n",
    "a.sort()\n",
    "print(*a)"
   ]
  },
  {
   "cell_type": "code",
   "execution_count": 30,
   "id": "ccbee43a",
   "metadata": {},
   "outputs": [
    {
     "name": "stdout",
     "output_type": "stream",
     "text": [
      "23\n",
      "5\n"
     ]
    }
   ],
   "source": [
    "a=list(map(int,input()))\n",
    "b=a[0]+a[-1]\n",
    "print(b)"
   ]
  },
  {
   "cell_type": "code",
   "execution_count": 39,
   "id": "1b6addee",
   "metadata": {},
   "outputs": [
    {
     "name": "stdout",
     "output_type": "stream",
     "text": [
      "23\n",
      "13\n"
     ]
    }
   ],
   "source": [
    "#Sum of squares of integer\n",
    "a=int(input())\n",
    "print(sum(int(d)**2 for d in str(a)))"
   ]
  },
  {
   "cell_type": "code",
   "execution_count": 15,
   "id": "46d949d9",
   "metadata": {},
   "outputs": [
    {
     "name": "stdout",
     "output_type": "stream",
     "text": [
      "59\n",
      "Great\n"
     ]
    }
   ],
   "source": [
    "#sum of digit+product of digit=input\n",
    "a=int(input())\n",
    "sum=0\n",
    "product=1\n",
    "for i in str(a):\n",
    "    sum=sum+int(i)\n",
    "    product=product*int(i)\n",
    "m=sum\n",
    "j=product\n",
    "if m+j==a:\n",
    "    print(\"Great\")\n",
    "else:\n",
    "    print(\"no\")"
   ]
  }
 ],
 "metadata": {
  "kernelspec": {
   "display_name": "Python 3 (ipykernel)",
   "language": "python",
   "name": "python3"
  },
  "language_info": {
   "codemirror_mode": {
    "name": "ipython",
    "version": 3
   },
   "file_extension": ".py",
   "mimetype": "text/x-python",
   "name": "python",
   "nbconvert_exporter": "python",
   "pygments_lexer": "ipython3",
   "version": "3.8.10"
  }
 },
 "nbformat": 4,
 "nbformat_minor": 5
}
