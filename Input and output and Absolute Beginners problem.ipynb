{
 "cells": [
  {
   "cell_type": "code",
   "execution_count": 1,
   "id": "99243c1d",
   "metadata": {},
   "outputs": [
    {
     "name": "stdout",
     "output_type": "stream",
     "text": [
      "Enter the number:5\n",
      "Factorial of5 is: 120\n"
     ]
    }
   ],
   "source": [
    "#Factorial\n",
    "n=int(input(\"Enter the number:\"))\n",
    "def fact(n):\n",
    "    if n==0 or n==1:\n",
    "        return 1\n",
    "    else:\n",
    "        return n*(fact(n-1))\n",
    "print(f'Factorial of{n} is:',fact(n))"
   ]
  },
  {
   "cell_type": "code",
   "execution_count": 55,
   "id": "4bdb4a81",
   "metadata": {
    "scrolled": true
   },
   "outputs": [
    {
     "name": "stdout",
     "output_type": "stream",
     "text": [
      "0\n",
      "Error\n"
     ]
    }
   ],
   "source": [
    "#Circumference of the circle\n",
    "r=float(input())\n",
    "c=\"\"\n",
    "if r<=0:\n",
    "    print(\"Error\")\n",
    "else:\n",
    "    c=2*3.14*r\n",
    "    format_c= \"{:.2f}\".format(c)\n",
    "    print(format_c)"
   ]
  },
  {
   "cell_type": "code",
   "execution_count": 24,
   "id": "7d648b1d",
   "metadata": {},
   "outputs": [
    {
     "name": "stdout",
     "output_type": "stream",
     "text": [
      "78\n",
      "95\n",
      "56\n",
      "95\n"
     ]
    }
   ],
   "source": [
    "#largest of numbers\n",
    "a=int(input())\n",
    "b=int(input())\n",
    "c=int(input())\n",
    "if a>b and a>c:\n",
    "    print(a)\n",
    "elif b>a and b>c:\n",
    "    print(b)\n",
    "else:\n",
    "    print(c)"
   ]
  },
  {
   "cell_type": "code",
   "execution_count": 60,
   "id": "ff81af8d",
   "metadata": {
    "scrolled": true
   },
   "outputs": [
    {
     "name": "stdout",
     "output_type": "stream",
     "text": [
      "9\n",
      "81\n"
     ]
    }
   ],
   "source": [
    "#Find the nth term of the series\n",
    "a=int(input())\n",
    "b=\"\"\n",
    "if a<0:\n",
    "    print(\"Error\")\n",
    "if a==0:\n",
    "    print(0)\n",
    "else:\n",
    "    b=a*a\n",
    "    print(b)"
   ]
  },
  {
   "cell_type": "code",
   "execution_count": 6,
   "id": "3ed81643",
   "metadata": {},
   "outputs": [
    {
     "name": "stdout",
     "output_type": "stream",
     "text": [
      "3\n",
      "9\n",
      "18\n",
      "27\n"
     ]
    }
   ],
   "source": [
    "#Nineth table\n",
    "n=int(input())\n",
    "for i in range(1,n+1):\n",
    "    i=i*9\n",
    "    print(i)\n"
   ]
  },
  {
   "cell_type": "code",
   "execution_count": 86,
   "id": "3829b562",
   "metadata": {},
   "outputs": [
    {
     "name": "stdout",
     "output_type": "stream",
     "text": [
      "4\n",
      "9182736"
     ]
    }
   ],
   "source": [
    "n=int(input())\n",
    "if n==0:\n",
    "    print(\"NULL\")\n",
    "else:\n",
    "    for i in range(1,n+1):\n",
    "        i=i*9\n",
    "        print(i,end=\" \")"
   ]
  },
  {
   "cell_type": "code",
   "execution_count": 8,
   "id": "61e83376",
   "metadata": {},
   "outputs": [
    {
     "name": "stdout",
     "output_type": "stream",
     "text": [
      "37\n",
      "98.60\n"
     ]
    }
   ],
   "source": [
    "#Celcius to farenheit\n",
    "c=int(input())\n",
    "f=c*(9/5)+32\n",
    "format_f=\"{:.2f}\".format(f)\n",
    "print(format_f)"
   ]
  },
  {
   "cell_type": "code",
   "execution_count": 9,
   "id": "5bd21bea",
   "metadata": {},
   "outputs": [
    {
     "name": "stdout",
     "output_type": "stream",
     "text": [
      "20\n",
      "173.21\n"
     ]
    }
   ],
   "source": [
    "#Area of an equilateral triangle\n",
    "a=int(input())\n",
    "import math\n",
    "x=math.sqrt(3)\n",
    "area=(1/4)*x*(a**2)\n",
    "format_area=\"{:.2f}\".format(area)\n",
    "print(format_area)"
   ]
  },
  {
   "cell_type": "code",
   "execution_count": 4,
   "id": "490dc6af",
   "metadata": {},
   "outputs": [
    {
     "name": "stdout",
     "output_type": "stream",
     "text": [
      "1.7320508075688772\n"
     ]
    }
   ],
   "source": [
    "import math\n",
    "x=math.sqrt(3)\n",
    "print(x)"
   ]
  },
  {
   "cell_type": "code",
   "execution_count": null,
   "id": "c97707cc",
   "metadata": {},
   "outputs": [],
   "source": [
    "#same number in 5 row\n",
    "num=int(input())\n",
    "for i in range(1,5+1):\n",
    "    i=num\n",
    "    print(i)"
   ]
  },
  {
   "cell_type": "code",
   "execution_count": 6,
   "id": "b9e8a83c",
   "metadata": {
    "scrolled": true
   },
   "outputs": [
    {
     "name": "stdout",
     "output_type": "stream",
     "text": [
      "Mukesh Raj M\n",
      "10\n"
     ]
    }
   ],
   "source": [
    "#Removing the white space\n",
    "n=input()\n",
    "print(len(n.replace(\" \",\"\")))"
   ]
  },
  {
   "cell_type": "code",
   "execution_count": 18,
   "id": "96eb5abf",
   "metadata": {},
   "outputs": [
    {
     "name": "stdout",
     "output_type": "stream",
     "text": [
      "12 3 4 5 6\n",
      "12 3 4 5 6\n"
     ]
    }
   ],
   "source": [
    "#Giving white space\n",
    "a=list(map(int,input().split()))\n",
    "print(*a)"
   ]
  },
  {
   "cell_type": "code",
   "execution_count": 3,
   "id": "7e36ad95",
   "metadata": {},
   "outputs": [
    {
     "name": "stdout",
     "output_type": "stream",
     "text": [
      "9\n",
      "9\n",
      "0\n",
      "9\n",
      "9\n",
      "0\n"
     ]
    }
   ],
   "source": [
    "#Input/output problems\n",
    "a=int(input())\n",
    "b=int(input())\n",
    "c=int(input())\n",
    "print(a)\n",
    "print(b)\n",
    "print(c)"
   ]
  },
  {
   "cell_type": "code",
   "execution_count": 4,
   "id": "678c7d17",
   "metadata": {
    "scrolled": false
   },
   "outputs": [
    {
     "name": "stdout",
     "output_type": "stream",
     "text": [
      "1\n",
      "2\n",
      "3\n",
      "1 2 3\n"
     ]
    }
   ],
   "source": [
    "a=input()\n",
    "b=input()\n",
    "c=input()\n",
    "print(a,b,c)"
   ]
  },
  {
   "cell_type": "code",
   "execution_count": 2,
   "id": "dbdc17a7",
   "metadata": {},
   "outputs": [
    {
     "name": "stdout",
     "output_type": "stream",
     "text": [
      "Mukesh\n",
      "M u k e s h\n"
     ]
    }
   ],
   "source": [
    "#add space between input(in this sum printing the seperately the last word to avoid white space)\n",
    "a=input()\n",
    "n=len(a)\n",
    "for i in a[:n-1]:\n",
    "    print(i, end=\" \")\n",
    "print(a[n-1])"
   ]
  },
  {
   "cell_type": "code",
   "execution_count": 53,
   "id": "07326fbb",
   "metadata": {},
   "outputs": [
    {
     "name": "stdout",
     "output_type": "stream",
     "text": [
      "Mukesh\n",
      "M u k e s h "
     ]
    }
   ],
   "source": [
    "a=input()\n",
    "for i in a:\n",
    "    print(i,end=\" \")"
   ]
  },
  {
   "cell_type": "code",
   "execution_count": 5,
   "id": "8a99d692",
   "metadata": {},
   "outputs": [
    {
     "name": "stdout",
     "output_type": "stream",
     "text": [
      "Mukesh\n",
      "M,u,k,e,s,h\n"
     ]
    }
   ],
   "source": [
    "# print a string seperated by coma\n",
    "a=input()\n",
    "n=len(a)\n",
    "for i in a[:n-1]:\n",
    "    print(i, end=\",\")\n",
    "print(a[n-1])"
   ]
  },
  {
   "cell_type": "code",
   "execution_count": 50,
   "id": "f6319d0f",
   "metadata": {},
   "outputs": [
    {
     "name": "stdout",
     "output_type": "stream",
     "text": [
      "Mukesh\n",
      "M,u,k,e,s,h,"
     ]
    }
   ],
   "source": [
    "a=input()\n",
    "for i in a:\n",
    "    print(i,end=',')"
   ]
  },
  {
   "cell_type": "code",
   "execution_count": 27,
   "id": "2e364d86",
   "metadata": {
    "scrolled": true
   },
   "outputs": [
    {
     "name": "stdout",
     "output_type": "stream",
     "text": [
      "2.4 5.6 6\n",
      "2.4\n",
      "5.6\n",
      "6.0\n"
     ]
    }
   ],
   "source": [
    "#3 float value as a input seperated by a line\n",
    "a,b,c=input().split()\n",
    "print(float(a))\n",
    "print(float(b))\n",
    "print(float(c))"
   ]
  },
  {
   "cell_type": "code",
   "execution_count": 54,
   "id": "2a68a9f2",
   "metadata": {},
   "outputs": [
    {
     "name": "stdout",
     "output_type": "stream",
     "text": [
      "mukesh\n",
      "m\n",
      "u\n",
      "k\n",
      "e\n",
      "s\n",
      "h\n"
     ]
    }
   ],
   "source": [
    "#seperated by line\n",
    "a=input()\n",
    "for i in a:\n",
    "    print(i)"
   ]
  },
  {
   "cell_type": "code",
   "execution_count": 73,
   "id": "862abdac",
   "metadata": {},
   "outputs": [
    {
     "name": "stdout",
     "output_type": "stream",
     "text": [
      "2 3\n",
      "2\n",
      "2\n",
      "2\n"
     ]
    }
   ],
   "source": [
    "# get in row print in line\n",
    "a,n=map(int,input().split())\n",
    "for i in range(n):\n",
    "    print(a)"
   ]
  },
  {
   "cell_type": "code",
   "execution_count": 1,
   "id": "d4d9ceab",
   "metadata": {},
   "outputs": [
    {
     "name": "stdout",
     "output_type": "stream",
     "text": [
      "2\n",
      "2000\n",
      "200000\n"
     ]
    }
   ],
   "source": [
    "# kilometer to meter,centimeter\n",
    "a=int(input())\n",
    "print(a*1000)\n",
    "print(a*100000)"
   ]
  },
  {
   "cell_type": "code",
   "execution_count": 24,
   "id": "63511f4d",
   "metadata": {},
   "outputs": [
    {
     "name": "stdout",
     "output_type": "stream",
     "text": [
      "3.4\n",
      "odd\n"
     ]
    }
   ],
   "source": [
    "#Odd or even\n",
    "import math\n",
    "a=float(input())\n",
    "b=math.floor(a)\n",
    "if b%2==0:\n",
    "    print(\"Even\")\n",
    "else:\n",
    "    print('odd')"
   ]
  },
  {
   "cell_type": "code",
   "execution_count": 29,
   "id": "4061238c",
   "metadata": {},
   "outputs": [
    {
     "name": "stdout",
     "output_type": "stream",
     "text": [
      "3.4\n",
      "Odd\n"
     ]
    }
   ],
   "source": [
    "import math\n",
    "a=float(input())\n",
    "b=math.floor(a)\n",
    "if b==0:\n",
    "    print(\"Zero\")\n",
    "elif b%2==0:\n",
    "    print(\"Even\")\n",
    "else:\n",
    "    print('Odd')"
   ]
  },
  {
   "cell_type": "code",
   "execution_count": 8,
   "id": "c86c45d8",
   "metadata": {},
   "outputs": [
    {
     "name": "stdout",
     "output_type": "stream",
     "text": [
      "2\n",
      "2 4 6 "
     ]
    }
   ],
   "source": [
    "a=int(input())\n",
    "for i in range(1,4):\n",
    "    i=i*a\n",
    "    print(i,end=\" \")"
   ]
  },
  {
   "cell_type": "code",
   "execution_count": 2,
   "id": "09b2ef7a",
   "metadata": {},
   "outputs": [
    {
     "name": "stdout",
     "output_type": "stream",
     "text": [
      "9\n",
      "9\n",
      "8\n",
      "7\n",
      "6\n",
      "5\n",
      "4\n",
      "3\n",
      "2\n",
      "1\n"
     ]
    }
   ],
   "source": [
    "# get and print in reverse order\n",
    "a=int(input())\n",
    "for i in reversed(range(1,a+1)):\n",
    "    print(i)"
   ]
  },
  {
   "cell_type": "code",
   "execution_count": 3,
   "id": "b1460158",
   "metadata": {
    "scrolled": true
   },
   "outputs": [
    {
     "name": "stdout",
     "output_type": "stream",
     "text": [
      "5\n",
      "1\n",
      "2\n",
      "3\n",
      "4\n",
      "5\n"
     ]
    }
   ],
   "source": [
    "#printing in different format\n",
    "a=int(input())\n",
    "for i in range(1,a+1):\n",
    "    print(i)"
   ]
  },
  {
   "cell_type": "code",
   "execution_count": 9,
   "id": "98453dd7",
   "metadata": {
    "scrolled": true
   },
   "outputs": [
    {
     "name": "stdout",
     "output_type": "stream",
     "text": [
      "10\n",
      "2\n",
      "4\n",
      "6\n",
      "8\n",
      "10\n"
     ]
    }
   ],
   "source": [
    "#Printing a integer\n",
    "a=int(input())\n",
    "for i in range(2,a+2,2):\n",
    "    print(i)"
   ]
  },
  {
   "cell_type": "code",
   "execution_count": 12,
   "id": "0e03c882",
   "metadata": {},
   "outputs": [
    {
     "name": "stdout",
     "output_type": "stream",
     "text": [
      "12 6\n",
      "6\n"
     ]
    }
   ],
   "source": [
    "#Find and print the smallest number\n",
    "a=list(map(int,input().split()))\n",
    "print(min(a))"
   ]
  },
  {
   "cell_type": "code",
   "execution_count": 19,
   "id": "f33b3997",
   "metadata": {},
   "outputs": [
    {
     "name": "stdout",
     "output_type": "stream",
     "text": [
      "Lokesh\n",
      "hsekoL"
     ]
    }
   ],
   "source": [
    "#Reverse a string\n",
    "a=input()\n",
    "for i in reversed(a):\n",
    "    print(i,end='')"
   ]
  },
  {
   "cell_type": "code",
   "execution_count": 22,
   "id": "d702aeaa",
   "metadata": {},
   "outputs": [
    {
     "data": {
      "text/plain": [
       "2"
      ]
     },
     "execution_count": 22,
     "metadata": {},
     "output_type": "execute_result"
    }
   ],
   "source": [
    "#Gcd of given number\n",
    "import math\n",
    "math.gcd(4,18)"
   ]
  },
  {
   "cell_type": "code",
   "execution_count": 33,
   "id": "b759d030",
   "metadata": {},
   "outputs": [
    {
     "name": "stdout",
     "output_type": "stream",
     "text": [
      "2 3\n"
     ]
    },
    {
     "data": {
      "text/plain": [
       "1"
      ]
     },
     "execution_count": 33,
     "metadata": {},
     "output_type": "execute_result"
    }
   ],
   "source": [
    "#Gcd of number using recursive function\n",
    "def gcd(a,b):\n",
    "    if b==0:\n",
    "        return a\n",
    "    else:\n",
    "        return gcd(b,a%b)\n",
    "a,b=map(int,input().split())\n",
    "gcd(a,b)"
   ]
  },
  {
   "cell_type": "code",
   "execution_count": 36,
   "id": "fd074d6f",
   "metadata": {},
   "outputs": [
    {
     "name": "stdout",
     "output_type": "stream",
     "text": [
      "15 30\n"
     ]
    },
    {
     "data": {
      "text/plain": [
       "15"
      ]
     },
     "execution_count": 36,
     "metadata": {},
     "output_type": "execute_result"
    }
   ],
   "source": [
    "a,b=map(int,input().split())\n",
    "import math\n",
    "math.gcd(a,b)"
   ]
  },
  {
   "cell_type": "code",
   "execution_count": 12,
   "id": "aebfe3d2",
   "metadata": {},
   "outputs": [
    {
     "name": "stdout",
     "output_type": "stream",
     "text": [
      "2 3\n",
      "2\n"
     ]
    }
   ],
   "source": [
    "a,b=map(int,input().split())\n",
    "if a>b:\n",
    "    a,b=b,a\n",
    "for i in range(1,a+1):\n",
    "    if a%i==0 and b%i==0:\n",
    "        gcd=i\n",
    "print(i)"
   ]
  },
  {
   "cell_type": "code",
   "execution_count": 19,
   "id": "8b26f745",
   "metadata": {},
   "outputs": [
    {
     "name": "stdout",
     "output_type": "stream",
     "text": [
      "23 25\n",
      "1\n"
     ]
    }
   ],
   "source": [
    "a,b=map(int,input().split())\n",
    "while a!=b:\n",
    "    if a>b:\n",
    "        a=a-b\n",
    "    else:\n",
    "        b=b-a\n",
    "print(a)\n",
    "            "
   ]
  },
  {
   "cell_type": "code",
   "execution_count": 32,
   "id": "5a4eee3f",
   "metadata": {},
   "outputs": [
    {
     "name": "stdout",
     "output_type": "stream",
     "text": [
      "12345\n",
      "15\n"
     ]
    }
   ],
   "source": [
    "#Sum of numbers\n",
    "a=input()\n",
    "sum=0\n",
    "for i in range(0,len(a)):\n",
    "    sum=sum+int(a[i])\n",
    "print(sum)"
   ]
  },
  {
   "cell_type": "code",
   "execution_count": 35,
   "id": "60f5427f",
   "metadata": {},
   "outputs": [
    {
     "name": "stdout",
     "output_type": "stream",
     "text": [
      "1234\n",
      "2 4\n",
      "1 3\n"
     ]
    }
   ],
   "source": [
    "#print odd and even separetely\n",
    "a=input()\n",
    "even=[]\n",
    "odd=[]\n",
    "for i in a:\n",
    "    if int(i)%2==0:\n",
    "        even.append(i)\n",
    "    else:\n",
    "        odd.append(i)\n",
    "even.sort()\n",
    "odd.sort()\n",
    "print(*even)\n",
    "print(*odd)\n",
    "    "
   ]
  },
  {
   "cell_type": "code",
   "execution_count": 37,
   "id": "46e49bec",
   "metadata": {},
   "outputs": [
    {
     "name": "stdout",
     "output_type": "stream",
     "text": [
      "6\n",
      "9 18 27 36 45 54\n"
     ]
    }
   ],
   "source": [
    "n=int(input())\n",
    "m=[]\n",
    "for i in range(1,n+1):\n",
    "    m.append(i*9)\n",
    "print(*m)\n",
    "    "
   ]
  },
  {
   "cell_type": "code",
   "execution_count": 9,
   "id": "d52d8045",
   "metadata": {},
   "outputs": [
    {
     "name": "stdout",
     "output_type": "stream",
     "text": [
      "1 5 6\n",
      "-2.00\n",
      "-3.00\n"
     ]
    }
   ],
   "source": [
    "#Quadrilateral equation\n",
    "import math\n",
    "a,b,c=map(float,input().split())\n",
    "d=(b**2)-(4*a*c)\n",
    "e=(-b+math.sqrt(d))/(2*a)\n",
    "f=(-b-math.sqrt(d))/(2*a)\n",
    "print(f'{e:.2f}')\n",
    "print(f'{f:.2f}')"
   ]
  },
  {
   "cell_type": "code",
   "execution_count": 41,
   "id": "2eadbaf3",
   "metadata": {},
   "outputs": [
    {
     "name": "stdout",
     "output_type": "stream",
     "text": [
      "12\n",
      "31\n"
     ]
    }
   ],
   "source": [
    "#Days in a month\n",
    "a=int(input())\n",
    "if(a==1):\n",
    "    print(30)\n",
    "elif(a==2):\n",
    "    print(28)\n",
    "elif(a==3):\n",
    "    print(31)\n",
    "elif(a==4):\n",
    "    print(30)\n",
    "elif(a==5):\n",
    "    print(31)\n",
    "elif(a==6):\n",
    "    print(30)\n",
    "elif(a==7):\n",
    "    print(31)\n",
    "elif(a==8):\n",
    "    print(31)\n",
    "elif(a==9):\n",
    "    print(30)\n",
    "elif(a==10):\n",
    "    print(31)\n",
    "elif(a==11):\n",
    "    print(30)\n",
    "elif(a==12):\n",
    "    print(31)\n",
    "else:\n",
    "    print(\"Error\")"
   ]
  },
  {
   "cell_type": "code",
   "execution_count": 43,
   "id": "0c84a51f",
   "metadata": {},
   "outputs": [
    {
     "name": "stdout",
     "output_type": "stream",
     "text": [
      "2020\n",
      "Y\n"
     ]
    }
   ],
   "source": [
    "#Leap year\n",
    "a=int(input())\n",
    "if a%400==0:\n",
    "    print(\"Y\")\n",
    "elif a%4==0 and a%100!=0:\n",
    "    print(\"Y\")\n",
    "else:\n",
    "    print(\"N\")"
   ]
  },
  {
   "cell_type": "code",
   "execution_count": 4,
   "id": "b1349d6c",
   "metadata": {
    "scrolled": true
   },
   "outputs": [
    {
     "name": "stdout",
     "output_type": "stream",
     "text": [
      "1000 2 5\n",
      "100.00\n"
     ]
    }
   ],
   "source": [
    "#Principle interest\n",
    "p,t,r=map(int,input().split())\n",
    "si=(p*t*r)/100\n",
    "print(f'{si:.2f}')"
   ]
  },
  {
   "cell_type": "code",
   "execution_count": 9,
   "id": "4c0ebbcd",
   "metadata": {},
   "outputs": [
    {
     "name": "stdout",
     "output_type": "stream",
     "text": [
      "10\n",
      "55\n"
     ]
    }
   ],
   "source": [
    "#Sum of n number\n",
    "n=int(input())\n",
    "sum=0\n",
    "for i in range(1,n+1):\n",
    "    sum=sum+i\n",
    "print(sum)"
   ]
  }
 ],
 "metadata": {
  "kernelspec": {
   "display_name": "Python 3 (ipykernel)",
   "language": "python",
   "name": "python3"
  },
  "language_info": {
   "codemirror_mode": {
    "name": "ipython",
    "version": 3
   },
   "file_extension": ".py",
   "mimetype": "text/x-python",
   "name": "python",
   "nbconvert_exporter": "python",
   "pygments_lexer": "ipython3",
   "version": "3.8.10"
  }
 },
 "nbformat": 4,
 "nbformat_minor": 5
}
